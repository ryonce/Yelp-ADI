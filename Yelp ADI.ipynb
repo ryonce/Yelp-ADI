{
 "cells": [
  {
   "cell_type": "markdown",
   "id": "f5c192c8",
   "metadata": {},
   "source": [
    "# Yelp ADI\n",
    "\n",
    "- Robert Yonce\n",
    "- 5/3/23\n",
    "- Updated 5/7/23"
   ]
  },
  {
   "cell_type": "markdown",
   "id": "068930cd",
   "metadata": {},
   "source": [
    "# Imports"
   ]
  },
  {
   "cell_type": "code",
   "execution_count": 1,
   "id": "df7001fb",
   "metadata": {},
   "outputs": [],
   "source": [
    "# Standard Imports\n",
    "\n",
    "import numpy as np\n",
    "import pandas as pd\n",
    "import matplotlib.pyplot as plt\n",
    "import seaborn as sns\n",
    "\n",
    "# Additional Imports\n",
    "\n",
    "import os, json, math, time\n",
    "from yelpapi import YelpAPI\n",
    "from tqdm.notebook import tqdm_notebook"
   ]
  },
  {
   "cell_type": "markdown",
   "id": "10283c45",
   "metadata": {},
   "source": [
    "# Keys & Login"
   ]
  },
  {
   "cell_type": "code",
   "execution_count": 2,
   "id": "683d2308",
   "metadata": {},
   "outputs": [
    {
     "data": {
      "text/plain": [
       "dict_keys(['client-id', 'api-key'])"
      ]
     },
     "execution_count": 2,
     "metadata": {},
     "output_type": "execute_result"
    }
   ],
   "source": [
    "# Keys\n",
    "\n",
    "with open('/Users/robertyonce/.secret/yelp_api.json') as f:\n",
    "    login = json.load(f)\n",
    "login.keys()"
   ]
  },
  {
   "cell_type": "code",
   "execution_count": 3,
   "id": "2d44cb5f",
   "metadata": {},
   "outputs": [
    {
     "data": {
      "text/plain": [
       "<yelpapi.yelpapi.YelpAPI at 0x1630f5550>"
      ]
     },
     "execution_count": 3,
     "metadata": {},
     "output_type": "execute_result"
    }
   ],
   "source": [
    "# YelpAPI\n",
    "\n",
    "yelp_api = YelpAPI(login['api-key'], timeout_s=5.0)\n",
    "yelp_api\n"
   ]
  },
  {
   "cell_type": "markdown",
   "id": "5270f2aa",
   "metadata": {},
   "source": [
    "# Set Parameters and File"
   ]
  },
  {
   "cell_type": "code",
   "execution_count": 4,
   "id": "28ee689a",
   "metadata": {},
   "outputs": [],
   "source": [
    "# set our API call parameters \n",
    "LOCATION = 'Knoxville,TN'\n",
    "TERM = 'Asian'"
   ]
  },
  {
   "cell_type": "code",
   "execution_count": 5,
   "id": "c9def862",
   "metadata": {},
   "outputs": [
    {
     "data": {
      "text/plain": [
       "'Data/results_in_progress_Knox_Asian.json'"
      ]
     },
     "execution_count": 5,
     "metadata": {},
     "output_type": "execute_result"
    }
   ],
   "source": [
    "# Specifying JSON_FILE filename and including the search terms in the filename\n",
    "\n",
    "JSON_FILE_KNOX = \"Data/results_in_progress_Knox_Asian.json\"\n",
    "JSON_FILE_KNOX"
   ]
  },
  {
   "cell_type": "code",
   "execution_count": 6,
   "id": "35c3eecf",
   "metadata": {},
   "outputs": [
    {
     "name": "stdout",
     "output_type": "stream",
     "text": [
      "[i] Data/results_in_progress_Knox_Asian.json not found. Saving empty list to file.\n"
     ]
    }
   ],
   "source": [
    "# Check if JSON_FILE_KNOX exists\n",
    "\n",
    "file_exists = os.path.isfile(JSON_FILE_KNOX)\n",
    "\n",
    "# If it does not exist: \n",
    "\n",
    "if file_exists == False:\n",
    "    \n",
    "    # Create New Folder if needed\n",
    "    # Get the Folder Name only\n",
    "    \n",
    "    folder = os.path.dirname(JSON_FILE_KNOX)\n",
    "    \n",
    "    # If JSON_FILE_KNOX included a folder:\n",
    "    \n",
    "    if len(folder)>0:\n",
    "        \n",
    "        # create the folder\n",
    "        \n",
    "        os.makedirs(folder,exist_ok=True)\n",
    "        \n",
    "        \n",
    "    # INFORM USER AND SAVE EMPTY LIST\n",
    "    \n",
    "    print(f'[i] {JSON_FILE_KNOX} not found. Saving empty list to file.')\n",
    "    \n",
    "    \n",
    "    # save an empty list\n",
    "    with open(JSON_FILE_KNOX,'w') as f:\n",
    "        json.dump([],f)  \n",
    "        \n",
    "# If it exists, inform user\n",
    "else:\n",
    "    print(f\"[i] {JSON_FILE_KNOX} already exists.\")"
   ]
  },
  {
   "cell_type": "code",
   "execution_count": 7,
   "id": "f2c2819e",
   "metadata": {},
   "outputs": [
    {
     "name": "stdout",
     "output_type": "stream",
     "text": [
      "- 0 previous results found.\n"
     ]
    }
   ],
   "source": [
    "# Load previous results and use len of results for offset\n",
    "\n",
    "with open(JSON_FILE_KNOX,'r') as f:\n",
    "    previous_results = json.load(f)\n",
    "    \n",
    "# Set offset based on previous results\n",
    "\n",
    "n_results = len(previous_results)\n",
    "print(f'- {n_results} previous results found.')\n"
   ]
  },
  {
   "cell_type": "markdown",
   "id": "28e7e4d0",
   "metadata": {},
   "source": [
    "# API CALL"
   ]
  },
  {
   "cell_type": "code",
   "execution_count": 8,
   "id": "bc18a354",
   "metadata": {},
   "outputs": [
    {
     "data": {
      "text/plain": [
       "dict_keys(['businesses', 'total', 'region'])"
      ]
     },
     "execution_count": 8,
     "metadata": {},
     "output_type": "execute_result"
    }
   ],
   "source": [
    "# use our yelp_api variable's search_query method to perform our API call\n",
    "\n",
    "results = yelp_api.search_query(location=LOCATION,\n",
    "                                term=TERM,\n",
    "                               offset=n_results)\n",
    "results.keys()"
   ]
  },
  {
   "cell_type": "code",
   "execution_count": 9,
   "id": "b931f073",
   "metadata": {},
   "outputs": [
    {
     "data": {
      "text/plain": [
       "258"
      ]
     },
     "execution_count": 9,
     "metadata": {},
     "output_type": "execute_result"
    }
   ],
   "source": [
    "# How many results total?\n",
    "\n",
    "total_results = results['total']\n",
    "total_results\n"
   ]
  },
  {
   "cell_type": "code",
   "execution_count": 10,
   "id": "8c02c3a4",
   "metadata": {},
   "outputs": [
    {
     "data": {
      "text/plain": [
       "20"
      ]
     },
     "execution_count": 10,
     "metadata": {},
     "output_type": "execute_result"
    }
   ],
   "source": [
    "# Results per page\n",
    "\n",
    "results_per_page = len(results['businesses'])\n",
    "results_per_page"
   ]
  },
  {
   "cell_type": "code",
   "execution_count": 11,
   "id": "a0c0bc19",
   "metadata": {},
   "outputs": [
    {
     "data": {
      "text/plain": [
       "13"
      ]
     },
     "execution_count": 11,
     "metadata": {},
     "output_type": "execute_result"
    }
   ],
   "source": [
    "# Use math.ceil to round up for the total number of pages of results.\n",
    "\n",
    "n_pages = math.ceil((results['total']-n_results)/ results_per_page)\n",
    "n_pages"
   ]
  },
  {
   "cell_type": "code",
   "execution_count": 13,
   "id": "6be59acb",
   "metadata": {},
   "outputs": [],
   "source": [
    "previous_results.extend(results['businesses'])  \n",
    "with open(JSON_FILE_KNOX,'w') as f:\n",
    "     json.dump(previous_results,f)"
   ]
  },
  {
   "cell_type": "markdown",
   "id": "1bc6c8ab",
   "metadata": {},
   "source": [
    "# Extend and Loop"
   ]
  },
  {
   "cell_type": "code",
   "execution_count": 14,
   "id": "78b2bc73",
   "metadata": {},
   "outputs": [
    {
     "data": {
      "application/vnd.jupyter.widget-view+json": {
       "model_id": "cfcbeec2271643a58b1e1e97127216cf",
       "version_major": 2,
       "version_minor": 0
      },
      "text/plain": [
       "  0%|          | 0/13 [00:00<?, ?it/s]"
      ]
     },
     "metadata": {},
     "output_type": "display_data"
    }
   ],
   "source": [
    "for i in tqdm_notebook( range(1,n_pages+1)):\n",
    "    \n",
    "    ## Read in results in progress file and check the length\n",
    "    with open(JSON_FILE_KNOX, 'r') as f:\n",
    "        previous_results = json.load(f)\n",
    "    ## save number of results for to use as offset\n",
    "    n_results = len(previous_results)\n",
    "    ## use n_results as the OFFSET \n",
    "    results = yelp_api.search_query(location=LOCATION,\n",
    "                                    term=TERM, \n",
    "                                    offset=n_results)\n",
    "    \n",
    "    ## append new results and save to file\n",
    "    previous_results.extend(results['businesses'])\n",
    "    \n",
    "    with open(JSON_FILE_KNOX,'w') as f:\n",
    "        json.dump(previous_results,f)\n",
    "    \n",
    "    # add a 200ms pause\n",
    "    time.sleep(.2)\n"
   ]
  },
  {
   "cell_type": "markdown",
   "id": "6382f248",
   "metadata": {},
   "source": [
    "# Final DF"
   ]
  },
  {
   "cell_type": "code",
   "execution_count": 15,
   "id": "39bdec74",
   "metadata": {},
   "outputs": [
    {
     "data": {
      "text/html": [
       "<div>\n",
       "<style scoped>\n",
       "    .dataframe tbody tr th:only-of-type {\n",
       "        vertical-align: middle;\n",
       "    }\n",
       "\n",
       "    .dataframe tbody tr th {\n",
       "        vertical-align: top;\n",
       "    }\n",
       "\n",
       "    .dataframe thead th {\n",
       "        text-align: right;\n",
       "    }\n",
       "</style>\n",
       "<table border=\"1\" class=\"dataframe\">\n",
       "  <thead>\n",
       "    <tr style=\"text-align: right;\">\n",
       "      <th></th>\n",
       "      <th>id</th>\n",
       "      <th>alias</th>\n",
       "      <th>name</th>\n",
       "      <th>image_url</th>\n",
       "      <th>is_closed</th>\n",
       "      <th>url</th>\n",
       "      <th>review_count</th>\n",
       "      <th>categories</th>\n",
       "      <th>rating</th>\n",
       "      <th>coordinates</th>\n",
       "      <th>transactions</th>\n",
       "      <th>price</th>\n",
       "      <th>location</th>\n",
       "      <th>phone</th>\n",
       "      <th>display_phone</th>\n",
       "      <th>distance</th>\n",
       "    </tr>\n",
       "  </thead>\n",
       "  <tbody>\n",
       "    <tr>\n",
       "      <th>0</th>\n",
       "      <td>-sjr3fdVEisP9Y5Z3MLnxQ</td>\n",
       "      <td>kaizen-knoxville-2</td>\n",
       "      <td>Kaizen</td>\n",
       "      <td>https://s3-media4.fl.yelpcdn.com/bphoto/hKHnwn...</td>\n",
       "      <td>False</td>\n",
       "      <td>https://www.yelp.com/biz/kaizen-knoxville-2?ad...</td>\n",
       "      <td>289</td>\n",
       "      <td>[{'alias': 'asianfusion', 'title': 'Asian Fusi...</td>\n",
       "      <td>4.5</td>\n",
       "      <td>{'latitude': 35.9694209, 'longitude': -83.918324}</td>\n",
       "      <td>[delivery]</td>\n",
       "      <td>$$</td>\n",
       "      <td>{'address1': '127 S Central Ave', 'address2': ...</td>\n",
       "      <td>+18654094444</td>\n",
       "      <td>(865) 409-4444</td>\n",
       "      <td>1460.420272</td>\n",
       "    </tr>\n",
       "    <tr>\n",
       "      <th>1</th>\n",
       "      <td>Lrz9QwH4HK8EDTkcZ8kBUg</td>\n",
       "      <td>szechuan-garden-chinese-restaurant-knoxville</td>\n",
       "      <td>Szechuan Garden Chinese Restaurant</td>\n",
       "      <td>https://s3-media1.fl.yelpcdn.com/bphoto/w1jq9k...</td>\n",
       "      <td>False</td>\n",
       "      <td>https://www.yelp.com/biz/szechuan-garden-chine...</td>\n",
       "      <td>106</td>\n",
       "      <td>[{'alias': 'chinese', 'title': 'Chinese'}]</td>\n",
       "      <td>4.5</td>\n",
       "      <td>{'latitude': 35.93579709084952, 'longitude': -...</td>\n",
       "      <td>[delivery]</td>\n",
       "      <td>$</td>\n",
       "      <td>{'address1': '4211 Chapman Hwy', 'address2': '...</td>\n",
       "      <td>+18655790889</td>\n",
       "      <td>(865) 579-0889</td>\n",
       "      <td>2862.519676</td>\n",
       "    </tr>\n",
       "    <tr>\n",
       "      <th>2</th>\n",
       "      <td>YR29u_bjgrKELlfVpZO8yQ</td>\n",
       "      <td>seoul-brothers-knoxville</td>\n",
       "      <td>Seoul Brothers</td>\n",
       "      <td>https://s3-media3.fl.yelpcdn.com/bphoto/HuIANl...</td>\n",
       "      <td>False</td>\n",
       "      <td>https://www.yelp.com/biz/seoul-brothers-knoxvi...</td>\n",
       "      <td>26</td>\n",
       "      <td>[{'alias': 'korean', 'title': 'Korean'}]</td>\n",
       "      <td>4.5</td>\n",
       "      <td>{'latitude': 35.97026, 'longitude': -83.92195}</td>\n",
       "      <td>[]</td>\n",
       "      <td>NaN</td>\n",
       "      <td>{'address1': '333 W Depot Ave', 'address2': ''...</td>\n",
       "      <td>+18659738779</td>\n",
       "      <td>(865) 973-8779</td>\n",
       "      <td>1467.360708</td>\n",
       "    </tr>\n",
       "    <tr>\n",
       "      <th>3</th>\n",
       "      <td>AefbTZ6lsJFsPRbyVOgCZQ</td>\n",
       "      <td>asia-kitchen-knoxville</td>\n",
       "      <td>Asia Kitchen</td>\n",
       "      <td>https://s3-media2.fl.yelpcdn.com/bphoto/x5l8K3...</td>\n",
       "      <td>False</td>\n",
       "      <td>https://www.yelp.com/biz/asia-kitchen-knoxvill...</td>\n",
       "      <td>244</td>\n",
       "      <td>[{'alias': 'chinese', 'title': 'Chinese'}, {'a...</td>\n",
       "      <td>4.0</td>\n",
       "      <td>{'latitude': 35.9226273945922, 'longitude': -8...</td>\n",
       "      <td>[delivery, pickup]</td>\n",
       "      <td>$$</td>\n",
       "      <td>{'address1': '8511 Kingston Pike', 'address2':...</td>\n",
       "      <td>+18656709858</td>\n",
       "      <td>(865) 670-9858</td>\n",
       "      <td>13118.960309</td>\n",
       "    </tr>\n",
       "    <tr>\n",
       "      <th>4</th>\n",
       "      <td>qr9mEaxLSm-2pmiiwVoAUA</td>\n",
       "      <td>bida-saigon-knoxville-2</td>\n",
       "      <td>Bida Saigon</td>\n",
       "      <td>https://s3-media3.fl.yelpcdn.com/bphoto/tDLKyl...</td>\n",
       "      <td>False</td>\n",
       "      <td>https://www.yelp.com/biz/bida-saigon-knoxville...</td>\n",
       "      <td>345</td>\n",
       "      <td>[{'alias': 'vietnamese', 'title': 'Vietnamese'}]</td>\n",
       "      <td>4.0</td>\n",
       "      <td>{'latitude': 35.9229926146895, 'longitude': -8...</td>\n",
       "      <td>[delivery]</td>\n",
       "      <td>$</td>\n",
       "      <td>{'address1': '8078 Kingston Pike', 'address2':...</td>\n",
       "      <td>+18656945999</td>\n",
       "      <td>(865) 694-5999</td>\n",
       "      <td>11906.289194</td>\n",
       "    </tr>\n",
       "  </tbody>\n",
       "</table>\n",
       "</div>"
      ],
      "text/plain": [
       "                       id                                         alias  \\\n",
       "0  -sjr3fdVEisP9Y5Z3MLnxQ                            kaizen-knoxville-2   \n",
       "1  Lrz9QwH4HK8EDTkcZ8kBUg  szechuan-garden-chinese-restaurant-knoxville   \n",
       "2  YR29u_bjgrKELlfVpZO8yQ                      seoul-brothers-knoxville   \n",
       "3  AefbTZ6lsJFsPRbyVOgCZQ                        asia-kitchen-knoxville   \n",
       "4  qr9mEaxLSm-2pmiiwVoAUA                       bida-saigon-knoxville-2   \n",
       "\n",
       "                                 name  \\\n",
       "0                              Kaizen   \n",
       "1  Szechuan Garden Chinese Restaurant   \n",
       "2                      Seoul Brothers   \n",
       "3                        Asia Kitchen   \n",
       "4                         Bida Saigon   \n",
       "\n",
       "                                           image_url  is_closed  \\\n",
       "0  https://s3-media4.fl.yelpcdn.com/bphoto/hKHnwn...      False   \n",
       "1  https://s3-media1.fl.yelpcdn.com/bphoto/w1jq9k...      False   \n",
       "2  https://s3-media3.fl.yelpcdn.com/bphoto/HuIANl...      False   \n",
       "3  https://s3-media2.fl.yelpcdn.com/bphoto/x5l8K3...      False   \n",
       "4  https://s3-media3.fl.yelpcdn.com/bphoto/tDLKyl...      False   \n",
       "\n",
       "                                                 url  review_count  \\\n",
       "0  https://www.yelp.com/biz/kaizen-knoxville-2?ad...           289   \n",
       "1  https://www.yelp.com/biz/szechuan-garden-chine...           106   \n",
       "2  https://www.yelp.com/biz/seoul-brothers-knoxvi...            26   \n",
       "3  https://www.yelp.com/biz/asia-kitchen-knoxvill...           244   \n",
       "4  https://www.yelp.com/biz/bida-saigon-knoxville...           345   \n",
       "\n",
       "                                          categories  rating  \\\n",
       "0  [{'alias': 'asianfusion', 'title': 'Asian Fusi...     4.5   \n",
       "1         [{'alias': 'chinese', 'title': 'Chinese'}]     4.5   \n",
       "2           [{'alias': 'korean', 'title': 'Korean'}]     4.5   \n",
       "3  [{'alias': 'chinese', 'title': 'Chinese'}, {'a...     4.0   \n",
       "4   [{'alias': 'vietnamese', 'title': 'Vietnamese'}]     4.0   \n",
       "\n",
       "                                         coordinates        transactions  \\\n",
       "0  {'latitude': 35.9694209, 'longitude': -83.918324}          [delivery]   \n",
       "1  {'latitude': 35.93579709084952, 'longitude': -...          [delivery]   \n",
       "2     {'latitude': 35.97026, 'longitude': -83.92195}                  []   \n",
       "3  {'latitude': 35.9226273945922, 'longitude': -8...  [delivery, pickup]   \n",
       "4  {'latitude': 35.9229926146895, 'longitude': -8...          [delivery]   \n",
       "\n",
       "  price                                           location         phone  \\\n",
       "0    $$  {'address1': '127 S Central Ave', 'address2': ...  +18654094444   \n",
       "1     $  {'address1': '4211 Chapman Hwy', 'address2': '...  +18655790889   \n",
       "2   NaN  {'address1': '333 W Depot Ave', 'address2': ''...  +18659738779   \n",
       "3    $$  {'address1': '8511 Kingston Pike', 'address2':...  +18656709858   \n",
       "4     $  {'address1': '8078 Kingston Pike', 'address2':...  +18656945999   \n",
       "\n",
       "    display_phone      distance  \n",
       "0  (865) 409-4444   1460.420272  \n",
       "1  (865) 579-0889   2862.519676  \n",
       "2  (865) 973-8779   1467.360708  \n",
       "3  (865) 670-9858  13118.960309  \n",
       "4  (865) 694-5999  11906.289194  "
      ]
     },
     "metadata": {},
     "output_type": "display_data"
    },
    {
     "data": {
      "text/html": [
       "<div>\n",
       "<style scoped>\n",
       "    .dataframe tbody tr th:only-of-type {\n",
       "        vertical-align: middle;\n",
       "    }\n",
       "\n",
       "    .dataframe tbody tr th {\n",
       "        vertical-align: top;\n",
       "    }\n",
       "\n",
       "    .dataframe thead th {\n",
       "        text-align: right;\n",
       "    }\n",
       "</style>\n",
       "<table border=\"1\" class=\"dataframe\">\n",
       "  <thead>\n",
       "    <tr style=\"text-align: right;\">\n",
       "      <th></th>\n",
       "      <th>id</th>\n",
       "      <th>alias</th>\n",
       "      <th>name</th>\n",
       "      <th>image_url</th>\n",
       "      <th>is_closed</th>\n",
       "      <th>url</th>\n",
       "      <th>review_count</th>\n",
       "      <th>categories</th>\n",
       "      <th>rating</th>\n",
       "      <th>coordinates</th>\n",
       "      <th>transactions</th>\n",
       "      <th>price</th>\n",
       "      <th>location</th>\n",
       "      <th>phone</th>\n",
       "      <th>display_phone</th>\n",
       "      <th>distance</th>\n",
       "    </tr>\n",
       "  </thead>\n",
       "  <tbody>\n",
       "    <tr>\n",
       "      <th>229</th>\n",
       "      <td>6NonvuqS9o758vmGd8HnMA</td>\n",
       "      <td>western-sizzlin-wood-grill-buffet-pigeon-forge</td>\n",
       "      <td>Western Sizzlin  Wood Grill Buffet</td>\n",
       "      <td>https://s3-media2.fl.yelpcdn.com/bphoto/szqRMK...</td>\n",
       "      <td>False</td>\n",
       "      <td>https://www.yelp.com/biz/western-sizzlin-wood-...</td>\n",
       "      <td>356</td>\n",
       "      <td>[{'alias': 'tradamerican', 'title': 'American ...</td>\n",
       "      <td>2.5</td>\n",
       "      <td>{'latitude': 35.813666, 'longitude': -83.577396}</td>\n",
       "      <td>[delivery]</td>\n",
       "      <td>$$</td>\n",
       "      <td>{'address1': '2301 Pkwy', 'address2': '', 'add...</td>\n",
       "      <td>+18654293120</td>\n",
       "      <td>(865) 429-3120</td>\n",
       "      <td>35117.450976</td>\n",
       "    </tr>\n",
       "    <tr>\n",
       "      <th>230</th>\n",
       "      <td>2N2MOrGKkBO0a5PgwyL7nQ</td>\n",
       "      <td>chick-fil-a-sevierville-2</td>\n",
       "      <td>Chick-fil-A</td>\n",
       "      <td>https://s3-media1.fl.yelpcdn.com/bphoto/0bSjYR...</td>\n",
       "      <td>False</td>\n",
       "      <td>https://www.yelp.com/biz/chick-fil-a-seviervil...</td>\n",
       "      <td>73</td>\n",
       "      <td>[{'alias': 'hotdogs', 'title': 'Fast Food'}, {...</td>\n",
       "      <td>3.5</td>\n",
       "      <td>{'latitude': 35.8378568, 'longitude': -83.5717...</td>\n",
       "      <td>[delivery]</td>\n",
       "      <td>$</td>\n",
       "      <td>{'address1': '1432 Pkwy', 'address2': '', 'add...</td>\n",
       "      <td>+18659082506</td>\n",
       "      <td>(865) 908-2506</td>\n",
       "      <td>34442.812890</td>\n",
       "    </tr>\n",
       "    <tr>\n",
       "      <th>231</th>\n",
       "      <td>Pt47vI3g6LchvNLGtPMMOQ</td>\n",
       "      <td>chick-fil-a-knoxville-16</td>\n",
       "      <td>Chick-fil-A</td>\n",
       "      <td>https://s3-media2.fl.yelpcdn.com/bphoto/LWSjA4...</td>\n",
       "      <td>False</td>\n",
       "      <td>https://www.yelp.com/biz/chick-fil-a-knoxville...</td>\n",
       "      <td>49</td>\n",
       "      <td>[{'alias': 'hotdogs', 'title': 'Fast Food'}, {...</td>\n",
       "      <td>2.5</td>\n",
       "      <td>{'latitude': 36.0074039, 'longitude': -84.0173...</td>\n",
       "      <td>[delivery]</td>\n",
       "      <td>$</td>\n",
       "      <td>{'address1': '6564 Clinton Hwy', 'address2': '...</td>\n",
       "      <td>+18659472416</td>\n",
       "      <td>(865) 947-2416</td>\n",
       "      <td>10034.373291</td>\n",
       "    </tr>\n",
       "    <tr>\n",
       "      <th>232</th>\n",
       "      <td>qg2IbQM-ILM9IDM5xs_xIQ</td>\n",
       "      <td>dicks-last-resort-pigeon-forge-pigeon-forge</td>\n",
       "      <td>Dick's Last Resort - Pigeon Forge</td>\n",
       "      <td>https://s3-media4.fl.yelpcdn.com/bphoto/MKTWHX...</td>\n",
       "      <td>False</td>\n",
       "      <td>https://www.yelp.com/biz/dicks-last-resort-pig...</td>\n",
       "      <td>346</td>\n",
       "      <td>[{'alias': 'tradamerican', 'title': 'American ...</td>\n",
       "      <td>3.0</td>\n",
       "      <td>{'latitude': 35.80361471589055, 'longitude': -...</td>\n",
       "      <td>[pickup, delivery]</td>\n",
       "      <td>$$</td>\n",
       "      <td>{'address1': '131 Island Dr', 'address2': 'Ste...</td>\n",
       "      <td>+18652801744</td>\n",
       "      <td>(865) 280-1744</td>\n",
       "      <td>36139.332488</td>\n",
       "    </tr>\n",
       "    <tr>\n",
       "      <th>233</th>\n",
       "      <td>615r0Oxf_2UVKgT4N5qpXg</td>\n",
       "      <td>golden-corral-buffet-and-grill-sevierville</td>\n",
       "      <td>Golden Corral Buffet &amp; Grill</td>\n",
       "      <td>https://s3-media4.fl.yelpcdn.com/bphoto/pdyxIH...</td>\n",
       "      <td>False</td>\n",
       "      <td>https://www.yelp.com/biz/golden-corral-buffet-...</td>\n",
       "      <td>34</td>\n",
       "      <td>[{'alias': 'tradamerican', 'title': 'American ...</td>\n",
       "      <td>3.5</td>\n",
       "      <td>{'latitude': 35.875951, 'longitude': -83.5704231}</td>\n",
       "      <td>[pickup, delivery]</td>\n",
       "      <td>$$</td>\n",
       "      <td>{'address1': '513 Winfield Dunn Pkwy', 'addres...</td>\n",
       "      <td>+18654538859</td>\n",
       "      <td>(865) 453-8859</td>\n",
       "      <td>33149.187774</td>\n",
       "    </tr>\n",
       "  </tbody>\n",
       "</table>\n",
       "</div>"
      ],
      "text/plain": [
       "                         id                                           alias  \\\n",
       "229  6NonvuqS9o758vmGd8HnMA  western-sizzlin-wood-grill-buffet-pigeon-forge   \n",
       "230  2N2MOrGKkBO0a5PgwyL7nQ                       chick-fil-a-sevierville-2   \n",
       "231  Pt47vI3g6LchvNLGtPMMOQ                        chick-fil-a-knoxville-16   \n",
       "232  qg2IbQM-ILM9IDM5xs_xIQ     dicks-last-resort-pigeon-forge-pigeon-forge   \n",
       "233  615r0Oxf_2UVKgT4N5qpXg      golden-corral-buffet-and-grill-sevierville   \n",
       "\n",
       "                                   name  \\\n",
       "229  Western Sizzlin  Wood Grill Buffet   \n",
       "230                         Chick-fil-A   \n",
       "231                         Chick-fil-A   \n",
       "232   Dick's Last Resort - Pigeon Forge   \n",
       "233        Golden Corral Buffet & Grill   \n",
       "\n",
       "                                             image_url  is_closed  \\\n",
       "229  https://s3-media2.fl.yelpcdn.com/bphoto/szqRMK...      False   \n",
       "230  https://s3-media1.fl.yelpcdn.com/bphoto/0bSjYR...      False   \n",
       "231  https://s3-media2.fl.yelpcdn.com/bphoto/LWSjA4...      False   \n",
       "232  https://s3-media4.fl.yelpcdn.com/bphoto/MKTWHX...      False   \n",
       "233  https://s3-media4.fl.yelpcdn.com/bphoto/pdyxIH...      False   \n",
       "\n",
       "                                                   url  review_count  \\\n",
       "229  https://www.yelp.com/biz/western-sizzlin-wood-...           356   \n",
       "230  https://www.yelp.com/biz/chick-fil-a-seviervil...            73   \n",
       "231  https://www.yelp.com/biz/chick-fil-a-knoxville...            49   \n",
       "232  https://www.yelp.com/biz/dicks-last-resort-pig...           346   \n",
       "233  https://www.yelp.com/biz/golden-corral-buffet-...            34   \n",
       "\n",
       "                                            categories  rating  \\\n",
       "229  [{'alias': 'tradamerican', 'title': 'American ...     2.5   \n",
       "230  [{'alias': 'hotdogs', 'title': 'Fast Food'}, {...     3.5   \n",
       "231  [{'alias': 'hotdogs', 'title': 'Fast Food'}, {...     2.5   \n",
       "232  [{'alias': 'tradamerican', 'title': 'American ...     3.0   \n",
       "233  [{'alias': 'tradamerican', 'title': 'American ...     3.5   \n",
       "\n",
       "                                           coordinates        transactions  \\\n",
       "229   {'latitude': 35.813666, 'longitude': -83.577396}          [delivery]   \n",
       "230  {'latitude': 35.8378568, 'longitude': -83.5717...          [delivery]   \n",
       "231  {'latitude': 36.0074039, 'longitude': -84.0173...          [delivery]   \n",
       "232  {'latitude': 35.80361471589055, 'longitude': -...  [pickup, delivery]   \n",
       "233  {'latitude': 35.875951, 'longitude': -83.5704231}  [pickup, delivery]   \n",
       "\n",
       "    price                                           location         phone  \\\n",
       "229    $$  {'address1': '2301 Pkwy', 'address2': '', 'add...  +18654293120   \n",
       "230     $  {'address1': '1432 Pkwy', 'address2': '', 'add...  +18659082506   \n",
       "231     $  {'address1': '6564 Clinton Hwy', 'address2': '...  +18659472416   \n",
       "232    $$  {'address1': '131 Island Dr', 'address2': 'Ste...  +18652801744   \n",
       "233    $$  {'address1': '513 Winfield Dunn Pkwy', 'addres...  +18654538859   \n",
       "\n",
       "      display_phone      distance  \n",
       "229  (865) 429-3120  35117.450976  \n",
       "230  (865) 908-2506  34442.812890  \n",
       "231  (865) 947-2416  10034.373291  \n",
       "232  (865) 280-1744  36139.332488  \n",
       "233  (865) 453-8859  33149.187774  "
      ]
     },
     "metadata": {},
     "output_type": "display_data"
    }
   ],
   "source": [
    "# Load final results\n",
    "\n",
    "final_df = pd.read_json(JSON_FILE_KNOX)\n",
    "display(final_df.head(), final_df.tail())"
   ]
  },
  {
   "cell_type": "code",
   "execution_count": 16,
   "id": "d2fa0963",
   "metadata": {},
   "outputs": [
    {
     "name": "stdout",
     "output_type": "stream",
     "text": [
      "<class 'pandas.core.frame.DataFrame'>\n",
      "RangeIndex: 234 entries, 0 to 233\n",
      "Data columns (total 16 columns):\n",
      " #   Column         Non-Null Count  Dtype  \n",
      "---  ------         --------------  -----  \n",
      " 0   id             234 non-null    object \n",
      " 1   alias          234 non-null    object \n",
      " 2   name           234 non-null    object \n",
      " 3   image_url      234 non-null    object \n",
      " 4   is_closed      234 non-null    bool   \n",
      " 5   url            234 non-null    object \n",
      " 6   review_count   234 non-null    int64  \n",
      " 7   categories     234 non-null    object \n",
      " 8   rating         234 non-null    float64\n",
      " 9   coordinates    234 non-null    object \n",
      " 10  transactions   234 non-null    object \n",
      " 11  price          187 non-null    object \n",
      " 12  location       234 non-null    object \n",
      " 13  phone          234 non-null    object \n",
      " 14  display_phone  234 non-null    object \n",
      " 15  distance       234 non-null    float64\n",
      "dtypes: bool(1), float64(2), int64(1), object(12)\n",
      "memory usage: 27.8+ KB\n"
     ]
    }
   ],
   "source": [
    "final_df.info()"
   ]
  },
  {
   "cell_type": "code",
   "execution_count": null,
   "id": "166bb4d1",
   "metadata": {},
   "outputs": [],
   "source": [
    "## Drop duplicate ids and confirm there are no more duplicates\n",
    "\n",
    "final_df = final_df.drop_duplicates(subset='id')\n",
    "final_df.duplicated(subset='id').sum()"
   ]
  },
  {
   "cell_type": "code",
   "execution_count": null,
   "id": "f1e0f49a",
   "metadata": {},
   "outputs": [],
   "source": [
    "# Save the final results to a compressed csv\n",
    "\n",
    "final_df.to_csv('Data/results_in_progress_Knox_Asian.csv.gz', compression='gzip',index=False)\n"
   ]
  },
  {
   "cell_type": "code",
   "execution_count": null,
   "id": "57f3d5fc",
   "metadata": {},
   "outputs": [],
   "source": []
  },
  {
   "cell_type": "code",
   "execution_count": null,
   "id": "bf2ea79d",
   "metadata": {},
   "outputs": [],
   "source": []
  }
 ],
 "metadata": {
  "kernelspec": {
   "display_name": "Python (dojo-env)",
   "language": "python",
   "name": "dojo-env"
  },
  "language_info": {
   "codemirror_mode": {
    "name": "ipython",
    "version": 3
   },
   "file_extension": ".py",
   "mimetype": "text/x-python",
   "name": "python",
   "nbconvert_exporter": "python",
   "pygments_lexer": "ipython3",
   "version": "3.9.15"
  },
  "toc": {
   "base_numbering": 1,
   "nav_menu": {},
   "number_sections": false,
   "sideBar": true,
   "skip_h1_title": false,
   "title_cell": "Table of Contents",
   "title_sidebar": "Contents",
   "toc_cell": false,
   "toc_position": {
    "height": "calc(100% - 180px)",
    "left": "10px",
    "top": "150px",
    "width": "225px"
   },
   "toc_section_display": true,
   "toc_window_display": true
  }
 },
 "nbformat": 4,
 "nbformat_minor": 5
}
