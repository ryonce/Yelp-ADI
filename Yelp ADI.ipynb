{
 "cells": [
  {
   "cell_type": "markdown",
   "id": "f5c192c8",
   "metadata": {},
   "source": [
    "# Yelp ADI\n",
    "\n",
    "- Robert Yonce\n",
    "- 5/3/23"
   ]
  },
  {
   "cell_type": "markdown",
   "id": "068930cd",
   "metadata": {},
   "source": [
    "# Imports"
   ]
  },
  {
   "cell_type": "code",
   "execution_count": 4,
   "id": "df7001fb",
   "metadata": {},
   "outputs": [],
   "source": [
    "# Standard Imports\n",
    "import numpy as np\n",
    "import pandas as pd\n",
    "import matplotlib.pyplot as plt\n",
    "import seaborn as sns\n",
    "# Additional Imports\n",
    "import os, json, math, time\n",
    "from yelpapi import YelpAPI\n",
    "from tqdm.notebook import tqdm_notebook"
   ]
  },
  {
   "cell_type": "markdown",
   "id": "10283c45",
   "metadata": {},
   "source": [
    "# Keys & Login"
   ]
  },
  {
   "cell_type": "code",
   "execution_count": 5,
   "id": "683d2308",
   "metadata": {},
   "outputs": [
    {
     "data": {
      "text/plain": [
       "dict_keys(['client-id', 'api-key'])"
      ]
     },
     "execution_count": 5,
     "metadata": {},
     "output_type": "execute_result"
    }
   ],
   "source": [
    "# Keys\n",
    "\n",
    "with open('/Users/robertyonce/.secret/yelp_api.json') as f:\n",
    "    login = json.load(f)\n",
    "login.keys()"
   ]
  },
  {
   "cell_type": "code",
   "execution_count": 6,
   "id": "2d44cb5f",
   "metadata": {},
   "outputs": [
    {
     "data": {
      "text/plain": [
       "<yelpapi.yelpapi.YelpAPI at 0x10ceb5bb0>"
      ]
     },
     "execution_count": 6,
     "metadata": {},
     "output_type": "execute_result"
    }
   ],
   "source": [
    "# YelpAPI\n",
    "\n",
    "yelp_api = YelpAPI(login['api-key'], timeout_s=5.0)\n",
    "yelp_api\n"
   ]
  },
  {
   "cell_type": "markdown",
   "id": "5270f2aa",
   "metadata": {},
   "source": [
    "# Set Parameters and File"
   ]
  },
  {
   "cell_type": "code",
   "execution_count": 7,
   "id": "28ee689a",
   "metadata": {},
   "outputs": [],
   "source": [
    "# set our API call parameters \n",
    "LOCATION = 'Knoxville,TN'\n",
    "TERM = 'Asian'"
   ]
  },
  {
   "cell_type": "code",
   "execution_count": 8,
   "id": "c9def862",
   "metadata": {},
   "outputs": [
    {
     "data": {
      "text/plain": [
       "'Data/results_in_progress_Knox_Asian.json'"
      ]
     },
     "execution_count": 8,
     "metadata": {},
     "output_type": "execute_result"
    }
   ],
   "source": [
    "# Specifying JSON_FILE filename and including the search terms in the filename\n",
    "\n",
    "JSON_FILE_KNOX = \"Data/results_in_progress_Knox_Asian.json\"\n",
    "JSON_FILE_KNOX"
   ]
  },
  {
   "cell_type": "code",
   "execution_count": 9,
   "id": "35c3eecf",
   "metadata": {},
   "outputs": [
    {
     "name": "stdout",
     "output_type": "stream",
     "text": [
      "[i] Data/results_in_progress_Knox_Asian.json not found. Saving empty list to file.\n"
     ]
    }
   ],
   "source": [
    "# Check if JSON_FILE_KNOX exists\n",
    "\n",
    "file_exists = os.path.isfile(JSON_FILE_KNOX)\n",
    "\n",
    "# If it does not exist: \n",
    "\n",
    "if file_exists == False:\n",
    "    \n",
    "    # Create New Folder if needed\n",
    "    # Get the Folder Name only\n",
    "    \n",
    "    folder = os.path.dirname(JSON_FILE_KNOX)\n",
    "    \n",
    "    # If JSON_FILE_KNOX included a folder:\n",
    "    \n",
    "    if len(folder)>0:\n",
    "        \n",
    "        # create the folder\n",
    "        \n",
    "        os.makedirs(folder,exist_ok=True)\n",
    "        \n",
    "        \n",
    "    # INFORM USER AND SAVE EMPTY LIST\n",
    "    \n",
    "    print(f'[i] {JSON_FILE_KNOX} not found. Saving empty list to file.')\n",
    "    \n",
    "    \n",
    "    # save an empty list\n",
    "    with open(JSON_FILE_KNOX,'w') as f:\n",
    "        json.dump([],f)  \n",
    "        \n",
    "# If it exists, inform user\n",
    "else:\n",
    "    print(f\"[i] {JSON_FILE_KNOX} already exists.\")"
   ]
  },
  {
   "cell_type": "code",
   "execution_count": 10,
   "id": "f2c2819e",
   "metadata": {},
   "outputs": [
    {
     "name": "stdout",
     "output_type": "stream",
     "text": [
      "- 0 previous results found.\n"
     ]
    }
   ],
   "source": [
    "# Load previous results and use len of results for offset\n",
    "\n",
    "with open(JSON_FILE_KNOX,'r') as f:\n",
    "    previous_results = json.load(f)\n",
    "    \n",
    "# Set offset based on previous results\n",
    "\n",
    "n_results = len(previous_results)\n",
    "print(f'- {n_results} previous results found.')\n"
   ]
  },
  {
   "cell_type": "markdown",
   "id": "28e7e4d0",
   "metadata": {},
   "source": [
    "# API CALL"
   ]
  },
  {
   "cell_type": "code",
   "execution_count": 11,
   "id": "bc18a354",
   "metadata": {},
   "outputs": [
    {
     "data": {
      "text/plain": [
       "dict_keys(['businesses', 'total', 'region'])"
      ]
     },
     "execution_count": 11,
     "metadata": {},
     "output_type": "execute_result"
    }
   ],
   "source": [
    "# use our yelp_api variable's search_query method to perform our API call\n",
    "\n",
    "results = yelp_api.search_query(location=LOCATION,\n",
    "                                term=TERM,\n",
    "                               offset=n_results)\n",
    "results.keys()"
   ]
  },
  {
   "cell_type": "code",
   "execution_count": 12,
   "id": "b931f073",
   "metadata": {},
   "outputs": [
    {
     "data": {
      "text/plain": [
       "258"
      ]
     },
     "execution_count": 12,
     "metadata": {},
     "output_type": "execute_result"
    }
   ],
   "source": [
    "# How many results total?\n",
    "\n",
    "total_results = results['total']\n",
    "total_results\n"
   ]
  },
  {
   "cell_type": "code",
   "execution_count": 13,
   "id": "8c02c3a4",
   "metadata": {},
   "outputs": [
    {
     "data": {
      "text/plain": [
       "20"
      ]
     },
     "execution_count": 13,
     "metadata": {},
     "output_type": "execute_result"
    }
   ],
   "source": [
    "# Results per page\n",
    "\n",
    "results_per_page = len(results['businesses'])\n",
    "results_per_page"
   ]
  },
  {
   "cell_type": "code",
   "execution_count": 14,
   "id": "a0c0bc19",
   "metadata": {},
   "outputs": [
    {
     "data": {
      "text/plain": [
       "13"
      ]
     },
     "execution_count": 14,
     "metadata": {},
     "output_type": "execute_result"
    }
   ],
   "source": [
    "# Use math.ceil to round up for the total number of pages of results.\n",
    "\n",
    "n_pages = math.ceil((results['total']-n_results)/ results_per_page)\n",
    "n_pages"
   ]
  },
  {
   "cell_type": "markdown",
   "id": "1bc6c8ab",
   "metadata": {},
   "source": [
    "# Extend and Loop"
   ]
  },
  {
   "cell_type": "code",
   "execution_count": 15,
   "id": "c9607b44",
   "metadata": {},
   "outputs": [],
   "source": [
    "# Join new results with old list with extend and save to file\n",
    "\n",
    "previous_results.extend(results['businesses'])  \n",
    "with open(JSON_FILE_KNOX,'w') as f:\n",
    "     json.dump(previous_results,f)"
   ]
  },
  {
   "cell_type": "code",
   "execution_count": 16,
   "id": "61ed01de",
   "metadata": {},
   "outputs": [
    {
     "data": {
      "application/vnd.jupyter.widget-view+json": {
       "model_id": "47c7411f52b346eb8a5177d43dc8dcf2",
       "version_major": 2,
       "version_minor": 0
      },
      "text/plain": [
       "  0%|          | 0/13 [00:00<?, ?it/s]"
      ]
     },
     "metadata": {},
     "output_type": "display_data"
    }
   ],
   "source": [
    "# Loop through pages showing time\n",
    "\n",
    "for i in tqdm_notebook(range(n_pages)):\n",
    "    # adds 200 ms pause\n",
    "    time.sleep(.2) "
   ]
  },
  {
   "cell_type": "markdown",
   "id": "6382f248",
   "metadata": {},
   "source": [
    "# Final DF"
   ]
  },
  {
   "cell_type": "code",
   "execution_count": 17,
   "id": "39bdec74",
   "metadata": {},
   "outputs": [
    {
     "data": {
      "text/html": [
       "<div>\n",
       "<style scoped>\n",
       "    .dataframe tbody tr th:only-of-type {\n",
       "        vertical-align: middle;\n",
       "    }\n",
       "\n",
       "    .dataframe tbody tr th {\n",
       "        vertical-align: top;\n",
       "    }\n",
       "\n",
       "    .dataframe thead th {\n",
       "        text-align: right;\n",
       "    }\n",
       "</style>\n",
       "<table border=\"1\" class=\"dataframe\">\n",
       "  <thead>\n",
       "    <tr style=\"text-align: right;\">\n",
       "      <th></th>\n",
       "      <th>id</th>\n",
       "      <th>alias</th>\n",
       "      <th>name</th>\n",
       "      <th>image_url</th>\n",
       "      <th>is_closed</th>\n",
       "      <th>url</th>\n",
       "      <th>review_count</th>\n",
       "      <th>categories</th>\n",
       "      <th>rating</th>\n",
       "      <th>coordinates</th>\n",
       "      <th>transactions</th>\n",
       "      <th>price</th>\n",
       "      <th>location</th>\n",
       "      <th>phone</th>\n",
       "      <th>display_phone</th>\n",
       "      <th>distance</th>\n",
       "    </tr>\n",
       "  </thead>\n",
       "  <tbody>\n",
       "    <tr>\n",
       "      <th>0</th>\n",
       "      <td>-sjr3fdVEisP9Y5Z3MLnxQ</td>\n",
       "      <td>kaizen-knoxville-2</td>\n",
       "      <td>Kaizen</td>\n",
       "      <td>https://s3-media4.fl.yelpcdn.com/bphoto/hKHnwn...</td>\n",
       "      <td>False</td>\n",
       "      <td>https://www.yelp.com/biz/kaizen-knoxville-2?ad...</td>\n",
       "      <td>289</td>\n",
       "      <td>[{'alias': 'asianfusion', 'title': 'Asian Fusi...</td>\n",
       "      <td>4.5</td>\n",
       "      <td>{'latitude': 35.9694209, 'longitude': -83.918324}</td>\n",
       "      <td>[delivery]</td>\n",
       "      <td>$$</td>\n",
       "      <td>{'address1': '127 S Central Ave', 'address2': ...</td>\n",
       "      <td>18654094444</td>\n",
       "      <td>(865) 409-4444</td>\n",
       "      <td>1460.420272</td>\n",
       "    </tr>\n",
       "    <tr>\n",
       "      <th>1</th>\n",
       "      <td>1kqFUhwnvJ0k-BA3Ca7tHQ</td>\n",
       "      <td>gogi-korean-kitchen-knoxville</td>\n",
       "      <td>Gogi Korean Kitchen</td>\n",
       "      <td>https://s3-media4.fl.yelpcdn.com/bphoto/6I52B0...</td>\n",
       "      <td>False</td>\n",
       "      <td>https://www.yelp.com/biz/gogi-korean-kitchen-k...</td>\n",
       "      <td>30</td>\n",
       "      <td>[{'alias': 'korean', 'title': 'Korean'}]</td>\n",
       "      <td>4.5</td>\n",
       "      <td>{'latitude': 35.92508469720469, 'longitude': -...</td>\n",
       "      <td>[delivery, pickup]</td>\n",
       "      <td>NaN</td>\n",
       "      <td>{'address1': '7818 Montvue Center Way', 'addre...</td>\n",
       "      <td>18652815797</td>\n",
       "      <td>(865) 281-5797</td>\n",
       "      <td>11229.680535</td>\n",
       "    </tr>\n",
       "    <tr>\n",
       "      <th>2</th>\n",
       "      <td>Lrz9QwH4HK8EDTkcZ8kBUg</td>\n",
       "      <td>szechuan-garden-chinese-restaurant-knoxville</td>\n",
       "      <td>Szechuan Garden Chinese Restaurant</td>\n",
       "      <td>https://s3-media1.fl.yelpcdn.com/bphoto/w1jq9k...</td>\n",
       "      <td>False</td>\n",
       "      <td>https://www.yelp.com/biz/szechuan-garden-chine...</td>\n",
       "      <td>106</td>\n",
       "      <td>[{'alias': 'chinese', 'title': 'Chinese'}]</td>\n",
       "      <td>4.5</td>\n",
       "      <td>{'latitude': 35.93579709084952, 'longitude': -...</td>\n",
       "      <td>[delivery]</td>\n",
       "      <td>$</td>\n",
       "      <td>{'address1': '4211 Chapman Hwy', 'address2': '...</td>\n",
       "      <td>18655790889</td>\n",
       "      <td>(865) 579-0889</td>\n",
       "      <td>2862.519676</td>\n",
       "    </tr>\n",
       "    <tr>\n",
       "      <th>3</th>\n",
       "      <td>vSUM4N3XKa11wGltYSMytw</td>\n",
       "      <td>sticky-rice-cafe-knoxville</td>\n",
       "      <td>Sticky Rice Cafe</td>\n",
       "      <td>https://s3-media3.fl.yelpcdn.com/bphoto/Ldiod-...</td>\n",
       "      <td>False</td>\n",
       "      <td>https://www.yelp.com/biz/sticky-rice-cafe-knox...</td>\n",
       "      <td>609</td>\n",
       "      <td>[{'alias': 'laotian', 'title': 'Laotian'}, {'a...</td>\n",
       "      <td>4.5</td>\n",
       "      <td>{'latitude': 35.9266842496109, 'longitude': -8...</td>\n",
       "      <td>[delivery]</td>\n",
       "      <td>$$</td>\n",
       "      <td>{'address1': '120 Jack Dance St', 'address2': ...</td>\n",
       "      <td>18652496273</td>\n",
       "      <td>(865) 249-6273</td>\n",
       "      <td>11236.843006</td>\n",
       "    </tr>\n",
       "    <tr>\n",
       "      <th>4</th>\n",
       "      <td>YR29u_bjgrKELlfVpZO8yQ</td>\n",
       "      <td>seoul-brothers-knoxville</td>\n",
       "      <td>Seoul Brothers</td>\n",
       "      <td>https://s3-media3.fl.yelpcdn.com/bphoto/HuIANl...</td>\n",
       "      <td>False</td>\n",
       "      <td>https://www.yelp.com/biz/seoul-brothers-knoxvi...</td>\n",
       "      <td>26</td>\n",
       "      <td>[{'alias': 'korean', 'title': 'Korean'}]</td>\n",
       "      <td>4.5</td>\n",
       "      <td>{'latitude': 35.97026, 'longitude': -83.92195}</td>\n",
       "      <td>[]</td>\n",
       "      <td>NaN</td>\n",
       "      <td>{'address1': '333 W Depot Ave', 'address2': ''...</td>\n",
       "      <td>18659738779</td>\n",
       "      <td>(865) 973-8779</td>\n",
       "      <td>1467.360708</td>\n",
       "    </tr>\n",
       "  </tbody>\n",
       "</table>\n",
       "</div>"
      ],
      "text/plain": [
       "                       id                                         alias  \\\n",
       "0  -sjr3fdVEisP9Y5Z3MLnxQ                            kaizen-knoxville-2   \n",
       "1  1kqFUhwnvJ0k-BA3Ca7tHQ                 gogi-korean-kitchen-knoxville   \n",
       "2  Lrz9QwH4HK8EDTkcZ8kBUg  szechuan-garden-chinese-restaurant-knoxville   \n",
       "3  vSUM4N3XKa11wGltYSMytw                    sticky-rice-cafe-knoxville   \n",
       "4  YR29u_bjgrKELlfVpZO8yQ                      seoul-brothers-knoxville   \n",
       "\n",
       "                                 name  \\\n",
       "0                              Kaizen   \n",
       "1                 Gogi Korean Kitchen   \n",
       "2  Szechuan Garden Chinese Restaurant   \n",
       "3                    Sticky Rice Cafe   \n",
       "4                      Seoul Brothers   \n",
       "\n",
       "                                           image_url  is_closed  \\\n",
       "0  https://s3-media4.fl.yelpcdn.com/bphoto/hKHnwn...      False   \n",
       "1  https://s3-media4.fl.yelpcdn.com/bphoto/6I52B0...      False   \n",
       "2  https://s3-media1.fl.yelpcdn.com/bphoto/w1jq9k...      False   \n",
       "3  https://s3-media3.fl.yelpcdn.com/bphoto/Ldiod-...      False   \n",
       "4  https://s3-media3.fl.yelpcdn.com/bphoto/HuIANl...      False   \n",
       "\n",
       "                                                 url  review_count  \\\n",
       "0  https://www.yelp.com/biz/kaizen-knoxville-2?ad...           289   \n",
       "1  https://www.yelp.com/biz/gogi-korean-kitchen-k...            30   \n",
       "2  https://www.yelp.com/biz/szechuan-garden-chine...           106   \n",
       "3  https://www.yelp.com/biz/sticky-rice-cafe-knox...           609   \n",
       "4  https://www.yelp.com/biz/seoul-brothers-knoxvi...            26   \n",
       "\n",
       "                                          categories  rating  \\\n",
       "0  [{'alias': 'asianfusion', 'title': 'Asian Fusi...     4.5   \n",
       "1           [{'alias': 'korean', 'title': 'Korean'}]     4.5   \n",
       "2         [{'alias': 'chinese', 'title': 'Chinese'}]     4.5   \n",
       "3  [{'alias': 'laotian', 'title': 'Laotian'}, {'a...     4.5   \n",
       "4           [{'alias': 'korean', 'title': 'Korean'}]     4.5   \n",
       "\n",
       "                                         coordinates        transactions  \\\n",
       "0  {'latitude': 35.9694209, 'longitude': -83.918324}          [delivery]   \n",
       "1  {'latitude': 35.92508469720469, 'longitude': -...  [delivery, pickup]   \n",
       "2  {'latitude': 35.93579709084952, 'longitude': -...          [delivery]   \n",
       "3  {'latitude': 35.9266842496109, 'longitude': -8...          [delivery]   \n",
       "4     {'latitude': 35.97026, 'longitude': -83.92195}                  []   \n",
       "\n",
       "  price                                           location        phone  \\\n",
       "0    $$  {'address1': '127 S Central Ave', 'address2': ...  18654094444   \n",
       "1   NaN  {'address1': '7818 Montvue Center Way', 'addre...  18652815797   \n",
       "2     $  {'address1': '4211 Chapman Hwy', 'address2': '...  18655790889   \n",
       "3    $$  {'address1': '120 Jack Dance St', 'address2': ...  18652496273   \n",
       "4   NaN  {'address1': '333 W Depot Ave', 'address2': ''...  18659738779   \n",
       "\n",
       "    display_phone      distance  \n",
       "0  (865) 409-4444   1460.420272  \n",
       "1  (865) 281-5797  11229.680535  \n",
       "2  (865) 579-0889   2862.519676  \n",
       "3  (865) 249-6273  11236.843006  \n",
       "4  (865) 973-8779   1467.360708  "
      ]
     },
     "metadata": {},
     "output_type": "display_data"
    },
    {
     "data": {
      "text/html": [
       "<div>\n",
       "<style scoped>\n",
       "    .dataframe tbody tr th:only-of-type {\n",
       "        vertical-align: middle;\n",
       "    }\n",
       "\n",
       "    .dataframe tbody tr th {\n",
       "        vertical-align: top;\n",
       "    }\n",
       "\n",
       "    .dataframe thead th {\n",
       "        text-align: right;\n",
       "    }\n",
       "</style>\n",
       "<table border=\"1\" class=\"dataframe\">\n",
       "  <thead>\n",
       "    <tr style=\"text-align: right;\">\n",
       "      <th></th>\n",
       "      <th>id</th>\n",
       "      <th>alias</th>\n",
       "      <th>name</th>\n",
       "      <th>image_url</th>\n",
       "      <th>is_closed</th>\n",
       "      <th>url</th>\n",
       "      <th>review_count</th>\n",
       "      <th>categories</th>\n",
       "      <th>rating</th>\n",
       "      <th>coordinates</th>\n",
       "      <th>transactions</th>\n",
       "      <th>price</th>\n",
       "      <th>location</th>\n",
       "      <th>phone</th>\n",
       "      <th>display_phone</th>\n",
       "      <th>distance</th>\n",
       "    </tr>\n",
       "  </thead>\n",
       "  <tbody>\n",
       "    <tr>\n",
       "      <th>15</th>\n",
       "      <td>wqLSTPlop9tQ5O0JH7kzWw</td>\n",
       "      <td>chaiyo-thai-and-sushi-bar-knoxville</td>\n",
       "      <td>Chaiyo Thai &amp; Sushi Bar</td>\n",
       "      <td>https://s3-media2.fl.yelpcdn.com/bphoto/emUAsr...</td>\n",
       "      <td>False</td>\n",
       "      <td>https://www.yelp.com/biz/chaiyo-thai-and-sushi...</td>\n",
       "      <td>140</td>\n",
       "      <td>[{'alias': 'thai', 'title': 'Thai'}, {'alias':...</td>\n",
       "      <td>4.0</td>\n",
       "      <td>{'latitude': 35.959541, 'longitude': -83.92935...</td>\n",
       "      <td>[delivery, pickup]</td>\n",
       "      <td>$$</td>\n",
       "      <td>{'address1': '601 James Agee St', 'address2': ...</td>\n",
       "      <td>18652498081</td>\n",
       "      <td>(865) 249-8081</td>\n",
       "      <td>498.375071</td>\n",
       "    </tr>\n",
       "    <tr>\n",
       "      <th>16</th>\n",
       "      <td>H4EW_19k_xX8OjcEEGdb9A</td>\n",
       "      <td>jai-dee-thai-kitchen-knoxville</td>\n",
       "      <td>Jai Dee Thai Kitchen</td>\n",
       "      <td>https://s3-media2.fl.yelpcdn.com/bphoto/Nwh387...</td>\n",
       "      <td>False</td>\n",
       "      <td>https://www.yelp.com/biz/jai-dee-thai-kitchen-...</td>\n",
       "      <td>105</td>\n",
       "      <td>[{'alias': 'thai', 'title': 'Thai'}, {'alias':...</td>\n",
       "      <td>4.5</td>\n",
       "      <td>{'latitude': 35.9561768, 'longitude': -83.9323...</td>\n",
       "      <td>[delivery, pickup]</td>\n",
       "      <td>$$</td>\n",
       "      <td>{'address1': '823 Melrose Pl', 'address2': '',...</td>\n",
       "      <td>18652497539</td>\n",
       "      <td>(865) 249-7539</td>\n",
       "      <td>695.925662</td>\n",
       "    </tr>\n",
       "    <tr>\n",
       "      <th>17</th>\n",
       "      <td>6-mv5IFsVOOL6aab1a4HpA</td>\n",
       "      <td>thai-time-knoxville</td>\n",
       "      <td>Thai Time</td>\n",
       "      <td>https://s3-media2.fl.yelpcdn.com/bphoto/oXceyx...</td>\n",
       "      <td>False</td>\n",
       "      <td>https://www.yelp.com/biz/thai-time-knoxville?a...</td>\n",
       "      <td>4</td>\n",
       "      <td>[{'alias': 'thai', 'title': 'Thai'}, {'alias':...</td>\n",
       "      <td>5.0</td>\n",
       "      <td>{'latitude': 35.921542, 'longitude': -83.874781}</td>\n",
       "      <td>[delivery, pickup]</td>\n",
       "      <td>NaN</td>\n",
       "      <td>{'address1': '6200 Chapman Hwy', 'address2': '...</td>\n",
       "      <td>18652537185</td>\n",
       "      <td>(865) 253-7185</td>\n",
       "      <td>5989.004556</td>\n",
       "    </tr>\n",
       "    <tr>\n",
       "      <th>18</th>\n",
       "      <td>ARMhMfwNWu4F78J9xJQ8Bg</td>\n",
       "      <td>anaba-japanese-cuisine-northshore-knoxville</td>\n",
       "      <td>Anaba Japanese Cuisine-Northshore</td>\n",
       "      <td>https://s3-media3.fl.yelpcdn.com/bphoto/KUrpMi...</td>\n",
       "      <td>False</td>\n",
       "      <td>https://www.yelp.com/biz/anaba-japanese-cuisin...</td>\n",
       "      <td>189</td>\n",
       "      <td>[{'alias': 'sushi', 'title': 'Sushi Bars'}, {'...</td>\n",
       "      <td>4.0</td>\n",
       "      <td>{'latitude': 35.8641, 'longitude': -84.06415}</td>\n",
       "      <td>[delivery]</td>\n",
       "      <td>$$</td>\n",
       "      <td>{'address1': '9405 S Northshore Dr', 'address2...</td>\n",
       "      <td>18655312363</td>\n",
       "      <td>(865) 531-2363</td>\n",
       "      <td>16278.706158</td>\n",
       "    </tr>\n",
       "    <tr>\n",
       "      <th>19</th>\n",
       "      <td>55tkqqsi2hmd_CPnMXb2XQ</td>\n",
       "      <td>ichiban-asian-cuisine-knoxville</td>\n",
       "      <td>Ichiban Asian Cuisine</td>\n",
       "      <td>https://s3-media1.fl.yelpcdn.com/bphoto/ygVC6P...</td>\n",
       "      <td>False</td>\n",
       "      <td>https://www.yelp.com/biz/ichiban-asian-cuisine...</td>\n",
       "      <td>87</td>\n",
       "      <td>[{'alias': 'chinese', 'title': 'Chinese'}]</td>\n",
       "      <td>4.5</td>\n",
       "      <td>{'latitude': 35.9054607332768, 'longitude': -8...</td>\n",
       "      <td>[delivery, pickup]</td>\n",
       "      <td>$$</td>\n",
       "      <td>{'address1': '7507 S Northshore Dr', 'address2...</td>\n",
       "      <td>18656907999</td>\n",
       "      <td>(865) 690-7999</td>\n",
       "      <td>10319.746911</td>\n",
       "    </tr>\n",
       "  </tbody>\n",
       "</table>\n",
       "</div>"
      ],
      "text/plain": [
       "                        id                                        alias  \\\n",
       "15  wqLSTPlop9tQ5O0JH7kzWw          chaiyo-thai-and-sushi-bar-knoxville   \n",
       "16  H4EW_19k_xX8OjcEEGdb9A               jai-dee-thai-kitchen-knoxville   \n",
       "17  6-mv5IFsVOOL6aab1a4HpA                          thai-time-knoxville   \n",
       "18  ARMhMfwNWu4F78J9xJQ8Bg  anaba-japanese-cuisine-northshore-knoxville   \n",
       "19  55tkqqsi2hmd_CPnMXb2XQ              ichiban-asian-cuisine-knoxville   \n",
       "\n",
       "                                 name  \\\n",
       "15            Chaiyo Thai & Sushi Bar   \n",
       "16               Jai Dee Thai Kitchen   \n",
       "17                          Thai Time   \n",
       "18  Anaba Japanese Cuisine-Northshore   \n",
       "19              Ichiban Asian Cuisine   \n",
       "\n",
       "                                            image_url  is_closed  \\\n",
       "15  https://s3-media2.fl.yelpcdn.com/bphoto/emUAsr...      False   \n",
       "16  https://s3-media2.fl.yelpcdn.com/bphoto/Nwh387...      False   \n",
       "17  https://s3-media2.fl.yelpcdn.com/bphoto/oXceyx...      False   \n",
       "18  https://s3-media3.fl.yelpcdn.com/bphoto/KUrpMi...      False   \n",
       "19  https://s3-media1.fl.yelpcdn.com/bphoto/ygVC6P...      False   \n",
       "\n",
       "                                                  url  review_count  \\\n",
       "15  https://www.yelp.com/biz/chaiyo-thai-and-sushi...           140   \n",
       "16  https://www.yelp.com/biz/jai-dee-thai-kitchen-...           105   \n",
       "17  https://www.yelp.com/biz/thai-time-knoxville?a...             4   \n",
       "18  https://www.yelp.com/biz/anaba-japanese-cuisin...           189   \n",
       "19  https://www.yelp.com/biz/ichiban-asian-cuisine...            87   \n",
       "\n",
       "                                           categories  rating  \\\n",
       "15  [{'alias': 'thai', 'title': 'Thai'}, {'alias':...     4.0   \n",
       "16  [{'alias': 'thai', 'title': 'Thai'}, {'alias':...     4.5   \n",
       "17  [{'alias': 'thai', 'title': 'Thai'}, {'alias':...     5.0   \n",
       "18  [{'alias': 'sushi', 'title': 'Sushi Bars'}, {'...     4.0   \n",
       "19         [{'alias': 'chinese', 'title': 'Chinese'}]     4.5   \n",
       "\n",
       "                                          coordinates        transactions  \\\n",
       "15  {'latitude': 35.959541, 'longitude': -83.92935...  [delivery, pickup]   \n",
       "16  {'latitude': 35.9561768, 'longitude': -83.9323...  [delivery, pickup]   \n",
       "17   {'latitude': 35.921542, 'longitude': -83.874781}  [delivery, pickup]   \n",
       "18      {'latitude': 35.8641, 'longitude': -84.06415}          [delivery]   \n",
       "19  {'latitude': 35.9054607332768, 'longitude': -8...  [delivery, pickup]   \n",
       "\n",
       "   price                                           location        phone  \\\n",
       "15    $$  {'address1': '601 James Agee St', 'address2': ...  18652498081   \n",
       "16    $$  {'address1': '823 Melrose Pl', 'address2': '',...  18652497539   \n",
       "17   NaN  {'address1': '6200 Chapman Hwy', 'address2': '...  18652537185   \n",
       "18    $$  {'address1': '9405 S Northshore Dr', 'address2...  18655312363   \n",
       "19    $$  {'address1': '7507 S Northshore Dr', 'address2...  18656907999   \n",
       "\n",
       "     display_phone      distance  \n",
       "15  (865) 249-8081    498.375071  \n",
       "16  (865) 249-7539    695.925662  \n",
       "17  (865) 253-7185   5989.004556  \n",
       "18  (865) 531-2363  16278.706158  \n",
       "19  (865) 690-7999  10319.746911  "
      ]
     },
     "metadata": {},
     "output_type": "display_data"
    }
   ],
   "source": [
    "# Load final results\n",
    "\n",
    "final_df = pd.read_json(JSON_FILE_KNOX)\n",
    "display(final_df.head(), final_df.tail())"
   ]
  }
 ],
 "metadata": {
  "kernelspec": {
   "display_name": "Python (dojo-env)",
   "language": "python",
   "name": "dojo-env"
  },
  "language_info": {
   "codemirror_mode": {
    "name": "ipython",
    "version": 3
   },
   "file_extension": ".py",
   "mimetype": "text/x-python",
   "name": "python",
   "nbconvert_exporter": "python",
   "pygments_lexer": "ipython3",
   "version": "3.9.15"
  },
  "toc": {
   "base_numbering": 1,
   "nav_menu": {},
   "number_sections": false,
   "sideBar": true,
   "skip_h1_title": false,
   "title_cell": "Table of Contents",
   "title_sidebar": "Contents",
   "toc_cell": false,
   "toc_position": {
    "height": "calc(100% - 180px)",
    "left": "10px",
    "top": "150px",
    "width": "225px"
   },
   "toc_section_display": true,
   "toc_window_display": true
  }
 },
 "nbformat": 4,
 "nbformat_minor": 5
}
