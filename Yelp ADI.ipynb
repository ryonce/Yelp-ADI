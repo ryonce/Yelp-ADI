{
 "cells": [
  {
   "cell_type": "markdown",
   "id": "f5c192c8",
   "metadata": {},
   "source": [
    "# Yelp ADI\n",
    "\n",
    "- Robert Yonce\n",
    "- 5/3/23\n",
    "- Updated 5/7/23"
   ]
  },
  {
   "cell_type": "markdown",
   "id": "068930cd",
   "metadata": {},
   "source": [
    "# Imports"
   ]
  },
  {
   "cell_type": "code",
   "execution_count": null,
   "id": "df7001fb",
   "metadata": {},
   "outputs": [],
   "source": [
    "# Standard Imports\n",
    "\n",
    "import numpy as np\n",
    "import pandas as pd\n",
    "import matplotlib.pyplot as plt\n",
    "import seaborn as sns\n",
    "\n",
    "# Additional Imports\n",
    "\n",
    "import os, json, math, time\n",
    "from yelpapi import YelpAPI\n",
    "from tqdm.notebook import tqdm_notebook"
   ]
  },
  {
   "cell_type": "markdown",
   "id": "10283c45",
   "metadata": {},
   "source": [
    "# Keys & Login"
   ]
  },
  {
   "cell_type": "code",
   "execution_count": null,
   "id": "683d2308",
   "metadata": {},
   "outputs": [],
   "source": [
    "# Keys\n",
    "\n",
    "with open('/Users/robertyonce/.secret/yelp_api.json') as f:\n",
    "    login = json.load(f)\n",
    "login.keys()"
   ]
  },
  {
   "cell_type": "code",
   "execution_count": null,
   "id": "2d44cb5f",
   "metadata": {},
   "outputs": [],
   "source": [
    "# YelpAPI\n",
    "\n",
    "yelp_api = YelpAPI(login['api-key'], timeout_s=5.0)\n",
    "yelp_api\n"
   ]
  },
  {
   "cell_type": "markdown",
   "id": "5270f2aa",
   "metadata": {},
   "source": [
    "# Set Parameters and File"
   ]
  },
  {
   "cell_type": "code",
   "execution_count": null,
   "id": "28ee689a",
   "metadata": {},
   "outputs": [],
   "source": [
    "# set our API call parameters \n",
    "LOCATION = 'Knoxville,TN'\n",
    "TERM = 'Asian'"
   ]
  },
  {
   "cell_type": "code",
   "execution_count": null,
   "id": "c9def862",
   "metadata": {},
   "outputs": [],
   "source": [
    "# Specifying JSON_FILE filename and including the search terms in the filename\n",
    "\n",
    "JSON_FILE_KNOX = \"Data/results_in_progress_Knox_Asian.json\"\n",
    "JSON_FILE_KNOX"
   ]
  },
  {
   "cell_type": "code",
   "execution_count": null,
   "id": "35c3eecf",
   "metadata": {},
   "outputs": [],
   "source": [
    "# Check if JSON_FILE_KNOX exists\n",
    "\n",
    "file_exists = os.path.isfile(JSON_FILE_KNOX)\n",
    "\n",
    "# If it does not exist: \n",
    "\n",
    "if file_exists == False:\n",
    "    \n",
    "    # Create New Folder if needed\n",
    "    # Get the Folder Name only\n",
    "    \n",
    "    folder = os.path.dirname(JSON_FILE_KNOX)\n",
    "    \n",
    "    # If JSON_FILE_KNOX included a folder:\n",
    "    \n",
    "    if len(folder)>0:\n",
    "        \n",
    "        # create the folder\n",
    "        \n",
    "        os.makedirs(folder,exist_ok=True)\n",
    "        \n",
    "        \n",
    "    # INFORM USER AND SAVE EMPTY LIST\n",
    "    \n",
    "    print(f'[i] {JSON_FILE_KNOX} not found. Saving empty list to file.')\n",
    "    \n",
    "    \n",
    "    # save an empty list\n",
    "    with open(JSON_FILE_KNOX,'w') as f:\n",
    "        json.dump([],f)  \n",
    "        \n",
    "# If it exists, inform user\n",
    "else:\n",
    "    print(f\"[i] {JSON_FILE_KNOX} already exists.\")"
   ]
  },
  {
   "cell_type": "code",
   "execution_count": null,
   "id": "f2c2819e",
   "metadata": {},
   "outputs": [],
   "source": [
    "# Load previous results and use len of results for offset\n",
    "\n",
    "with open(JSON_FILE_KNOX,'r') as f:\n",
    "    previous_results = json.load(f)\n",
    "    \n",
    "# Set offset based on previous results\n",
    "\n",
    "n_results = len(previous_results)\n",
    "print(f'- {n_results} previous results found.')\n"
   ]
  },
  {
   "cell_type": "markdown",
   "id": "28e7e4d0",
   "metadata": {},
   "source": [
    "# API CALL"
   ]
  },
  {
   "cell_type": "code",
   "execution_count": null,
   "id": "bc18a354",
   "metadata": {},
   "outputs": [],
   "source": [
    "# use our yelp_api variable's search_query method to perform our API call\n",
    "\n",
    "results = yelp_api.search_query(location=LOCATION,\n",
    "                                term=TERM,\n",
    "                               offset=n_results)\n",
    "results.keys()"
   ]
  },
  {
   "cell_type": "code",
   "execution_count": null,
   "id": "b931f073",
   "metadata": {},
   "outputs": [],
   "source": [
    "# How many results total?\n",
    "\n",
    "total_results = results['total']\n",
    "total_results\n"
   ]
  },
  {
   "cell_type": "code",
   "execution_count": null,
   "id": "8c02c3a4",
   "metadata": {},
   "outputs": [],
   "source": [
    "# Results per page\n",
    "\n",
    "results_per_page = len(results['businesses'])\n",
    "results_per_page"
   ]
  },
  {
   "cell_type": "code",
   "execution_count": null,
   "id": "a0c0bc19",
   "metadata": {},
   "outputs": [],
   "source": [
    "# Use math.ceil to round up for the total number of pages of results.\n",
    "\n",
    "n_pages = math.ceil((results['total']-n_results)/ results_per_page)\n",
    "n_pages"
   ]
  },
  {
   "cell_type": "code",
   "execution_count": null,
   "id": "6be59acb",
   "metadata": {},
   "outputs": [],
   "source": [
    "previous_results.extend(results['businesses'])  \n",
    "with open(JSON_FILE_KNOX,'w') as f:\n",
    "     json.dump(previous_results,f)"
   ]
  },
  {
   "cell_type": "markdown",
   "id": "1bc6c8ab",
   "metadata": {},
   "source": [
    "# Extend and Loop"
   ]
  },
  {
   "cell_type": "code",
   "execution_count": null,
   "id": "78b2bc73",
   "metadata": {},
   "outputs": [],
   "source": [
    "for i in tqdm_notebook(range(1,n_pages+1)):\n",
    "    \n",
    "    ## Read in results in progress file and check the length\n",
    "    with open(JSON_FILE_KNOX, 'r') as f:\n",
    "        previous_results = json.load(f)\n",
    "    ## save number of results for to use as offset\n",
    "    n_results = len(previous_results)\n",
    "    ## use n_results as the OFFSET \n",
    "    results = yelp_api.search_query(location=LOCATION,\n",
    "                                    term=TERM, \n",
    "                                    offset=n_results+1)\n",
    "    \n",
    "    ## append new results and save to file\n",
    "    previous_results.extend(results['businesses'])\n",
    "    \n",
    "    with open(JSON_FILE_KNOX,'w') as f:\n",
    "        json.dump(previous_results,f)\n",
    "    \n",
    "    # add a 200ms pause\n",
    "    time.sleep(.2)\n"
   ]
  },
  {
   "cell_type": "markdown",
   "id": "6382f248",
   "metadata": {},
   "source": [
    "# Final DF"
   ]
  },
  {
   "cell_type": "code",
   "execution_count": null,
   "id": "39bdec74",
   "metadata": {},
   "outputs": [],
   "source": [
    "# Load final results\n",
    "\n",
    "final_df = pd.read_json(JSON_FILE_KNOX)\n",
    "display(final_df.head(), final_df.tail())"
   ]
  },
  {
   "cell_type": "code",
   "execution_count": null,
   "id": "d2fa0963",
   "metadata": {},
   "outputs": [],
   "source": [
    "final_df.info()"
   ]
  },
  {
   "cell_type": "code",
   "execution_count": null,
   "id": "166bb4d1",
   "metadata": {},
   "outputs": [],
   "source": [
    "## Drop duplicate ids and confirm there are no more duplicates\n",
    "\n",
    "final_df = final_df.drop_duplicates(subset='id')\n",
    "final_df.duplicated(subset='id').sum()"
   ]
  },
  {
   "cell_type": "code",
   "execution_count": null,
   "id": "f1e0f49a",
   "metadata": {},
   "outputs": [],
   "source": [
    "# Save the final results to a compressed csv\n",
    "\n",
    "final_df.to_csv('Data/results_in_progress_Knox_Asian.csv.gz', compression='gzip',index=False)\n"
   ]
  },
  {
   "cell_type": "code",
   "execution_count": null,
   "id": "57f3d5fc",
   "metadata": {},
   "outputs": [],
   "source": []
  },
  {
   "cell_type": "code",
   "execution_count": null,
   "id": "bf2ea79d",
   "metadata": {},
   "outputs": [],
   "source": []
  }
 ],
 "metadata": {
  "kernelspec": {
   "display_name": "Python (dojo-env)",
   "language": "python",
   "name": "dojo-env"
  },
  "language_info": {
   "codemirror_mode": {
    "name": "ipython",
    "version": 3
   },
   "file_extension": ".py",
   "mimetype": "text/x-python",
   "name": "python",
   "nbconvert_exporter": "python",
   "pygments_lexer": "ipython3",
   "version": "3.9.15"
  },
  "toc": {
   "base_numbering": 1,
   "nav_menu": {},
   "number_sections": false,
   "sideBar": true,
   "skip_h1_title": false,
   "title_cell": "Table of Contents",
   "title_sidebar": "Contents",
   "toc_cell": false,
   "toc_position": {
    "height": "calc(100% - 180px)",
    "left": "10px",
    "top": "150px",
    "width": "225px"
   },
   "toc_section_display": true,
   "toc_window_display": true
  }
 },
 "nbformat": 4,
 "nbformat_minor": 5
}
